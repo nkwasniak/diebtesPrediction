{
 "cells": [
  {
   "cell_type": "code",
   "execution_count": 37,
   "metadata": {},
   "outputs": [],
   "source": [
    "import numpy as np\n",
    "import pandas as pd\n",
    "import matplotlib.pyplot as plt\n",
    "import seaborn as sns\n",
    "from sklearn.model_selection import train_test_split"
   ]
  },
  {
   "cell_type": "markdown",
   "metadata": {},
   "source": [
    "## Wczytywanie"
   ]
  },
  {
   "cell_type": "code",
   "execution_count": 38,
   "metadata": {},
   "outputs": [],
   "source": [
    "df_diabetes = pd.read_csv('./diabetes.csv')"
   ]
  },
  {
   "cell_type": "code",
   "execution_count": 39,
   "metadata": {},
   "outputs": [
    {
     "name": "stdout",
     "output_type": "stream",
     "text": [
      "['Pregnancies', 'Glucose', 'BloodPressure', 'SkinThickness', 'Insulin', 'BMI', 'DiabetesPedigreeFunction', 'Age']\n",
      "(576, 8)\n",
      "(192, 8)\n"
     ]
    }
   ],
   "source": [
    "features = list(df_diabetes.columns.values)\n",
    "features.remove('Outcome')\n",
    "print(features)\n",
    "X = df_diabetes[features]\n",
    "y = df_diabetes['Outcome']\n",
    "\n",
    "X_train, X_test, y_train, y_test = train_test_split(X, y, test_size=0.25, random_state=0)\n",
    "\n",
    "print(X_train.shape)\n",
    "print(X_test.shape)"
   ]
  },
  {
   "cell_type": "code",
   "execution_count": 40,
   "metadata": {},
   "outputs": [],
   "source": [
    "def check_zero_entries(data, fields):\n",
    "    for field in fields:\n",
    "        print('Kolumna %s: liczba \"zerowych\" pól: %d' % (field, len(data.loc[ data[field] == 0, field ])))"
   ]
  },
  {
   "cell_type": "code",
   "execution_count": 41,
   "metadata": {},
   "outputs": [],
   "source": [
    "#Zamiana wartości zerowych na wartości średnie w danej kolumnie\n",
    "def impute_zero_field_by_mean(data, field):\n",
    "    nonzero_vals = data.loc[data[field] != 0, field]\n",
    "    mean = np.mean(nonzero_vals)\n",
    "    k = len(data.loc[ data[field] == 0, field]) \n",
    "    data.loc[ data[field] == 0, field ] = mean\n",
    "    print('Kolumna: %s; wypełniona %d pól z wartością średnią: %.3f' % (field, k, mean))"
   ]
  },
  {
   "cell_type": "code",
   "execution_count": 42,
   "metadata": {},
   "outputs": [],
   "source": [
    "#Zamiana wartości zerowych na wartość mediany w danej kolumnie\n",
    "def impute_zero_field_by_medium(data, field):\n",
    "    nonzero_vals = data.loc[data[field] != 0, field]\n",
    "    median = np.median(nonzero_vals)\n",
    "    k = len(data.loc[ data[field] == 0, field])\n",
    "    data.loc[ data[field] == 0, field ] = median\n",
    "    print('Kolumna: %s; wypełniona %d pól z wartością mediany: %.3f' % (field, k, median))"
   ]
  },
  {
   "cell_type": "markdown",
   "metadata": {},
   "source": [
    "## Sprawdzenie\n",
    "Czy istnieją wartości zerowe."
   ]
  },
  {
   "cell_type": "code",
   "execution_count": 43,
   "metadata": {},
   "outputs": [
    {
     "name": "stdout",
     "output_type": "stream",
     "text": [
      "Kolumna Glucose: liczba \"zerowych\" pól: 4\n",
      "Kolumna BloodPressure: liczba \"zerowych\" pól: 25\n",
      "Kolumna SkinThickness: liczba \"zerowych\" pól: 163\n",
      "Kolumna Insulin: liczba \"zerowych\" pól: 270\n",
      "Kolumna BMI: liczba \"zerowych\" pól: 8\n"
     ]
    }
   ],
   "source": [
    "check_zero_entries(X_train, ['Glucose', 'BloodPressure', 'SkinThickness', 'Insulin', 'BMI'])"
   ]
  },
  {
   "cell_type": "markdown",
   "metadata": {},
   "source": [
    "## Zamiana brakujących wartości"
   ]
  },
  {
   "cell_type": "code",
   "execution_count": 44,
   "metadata": {},
   "outputs": [
    {
     "name": "stdout",
     "output_type": "stream",
     "text": [
      "Kolumna: Glucose; wypełniona 4 pól z wartością średnią: 122.003\n",
      "Kolumna: BloodPressure; wypełniona 25 pól z wartością średnią: 72.846\n",
      "Kolumna: SkinThickness; wypełniona 163 pól z wartością mediany: 30.000\n",
      "Kolumna: Insulin; wypełniona 270 pól z wartością mediany: 127.500\n",
      "Kolumna: BMI; wypełniona 8 pól z wartością mediany: 32.500\n"
     ]
    }
   ],
   "source": [
    "for field in ['Glucose', 'BloodPressure']:\n",
    "    impute_zero_field_by_mean(X_train, field)\n",
    "\n",
    "for field in ['SkinThickness', 'Insulin', 'BMI']:\n",
    "    impute_zero_field_by_medium(X_train, field)"
   ]
  },
  {
   "cell_type": "code",
   "execution_count": 45,
   "metadata": {},
   "outputs": [
    {
     "name": "stdout",
     "output_type": "stream",
     "text": [
      "Kolumna Glucose: liczba \"zerowych\" pól: 0\n",
      "Kolumna BloodPressure: liczba \"zerowych\" pól: 0\n",
      "Kolumna SkinThickness: liczba \"zerowych\" pól: 0\n",
      "Kolumna Insulin: liczba \"zerowych\" pól: 0\n",
      "Kolumna BMI: liczba \"zerowych\" pól: 0\n"
     ]
    }
   ],
   "source": [
    "check_zero_entries(X_train, ['Glucose', 'BloodPressure', 'SkinThickness', 'Insulin', 'BMI'])"
   ]
  },
  {
   "cell_type": "markdown",
   "metadata": {},
   "source": [
    "## Podobnie dla zbioru testowego"
   ]
  },
  {
   "cell_type": "code",
   "execution_count": 46,
   "metadata": {},
   "outputs": [
    {
     "name": "stdout",
     "output_type": "stream",
     "text": [
      "Kolumna Glucose: liczba \"zerowych\" pól: 1\n",
      "Kolumna BloodPressure: liczba \"zerowych\" pól: 10\n",
      "Kolumna SkinThickness: liczba \"zerowych\" pól: 64\n",
      "Kolumna Insulin: liczba \"zerowych\" pól: 104\n",
      "Kolumna BMI: liczba \"zerowych\" pól: 3\n"
     ]
    }
   ],
   "source": [
    "check_zero_entries(X_test, ['Glucose', 'BloodPressure', 'SkinThickness', 'Insulin', 'BMI'])"
   ]
  },
  {
   "cell_type": "code",
   "execution_count": 47,
   "metadata": {},
   "outputs": [
    {
     "name": "stdout",
     "output_type": "stream",
     "text": [
      "Kolumna: Glucose; wypełniona 1 pól z wartością średnią: 120.738\n",
      "Kolumna: BloodPressure; wypełniona 10 pól z wartością średnią: 71.071\n",
      "Kolumna: SkinThickness; wypełniona 64 pól z wartością mediany: 28.500\n",
      "Kolumna: Insulin; wypełniona 104 pól z wartością mediany: 115.000\n",
      "Kolumna: BMI; wypełniona 3 pól z wartością mediany: 31.200\n"
     ]
    }
   ],
   "source": [
    "for field in ['Glucose', 'BloodPressure']:\n",
    "    impute_zero_field_by_mean(X_test, field)\n",
    "\n",
    "for field in ['SkinThickness', 'Insulin', 'BMI']:\n",
    "    impute_zero_field_by_medium(X_test, field)"
   ]
  },
  {
   "cell_type": "markdown",
   "metadata": {},
   "source": [
    "## Ponowne sprawdzenie"
   ]
  },
  {
   "cell_type": "code",
   "execution_count": 48,
   "metadata": {},
   "outputs": [
    {
     "name": "stdout",
     "output_type": "stream",
     "text": [
      "Kolumna Glucose: liczba \"zerowych\" pól: 0\n",
      "Kolumna BloodPressure: liczba \"zerowych\" pól: 0\n",
      "Kolumna SkinThickness: liczba \"zerowych\" pól: 0\n",
      "Kolumna Insulin: liczba \"zerowych\" pól: 0\n",
      "Kolumna BMI: liczba \"zerowych\" pól: 0\n"
     ]
    }
   ],
   "source": [
    "check_zero_entries(X_test, ['Glucose', 'BloodPressure', 'SkinThickness', 'Insulin', 'BMI'])"
   ]
  },
  {
   "cell_type": "code",
   "execution_count": 49,
   "metadata": {},
   "outputs": [
    {
     "name": "stdout",
     "output_type": "stream",
     "text": [
      "(576, 8)\n",
      "(192, 8)\n",
      "576\n",
      "192\n"
     ]
    }
   ],
   "source": [
    "print(X_train.shape)\n",
    "print(X_test.shape)\n",
    "print(y_train.size)\n",
    "print(y_test.size)"
   ]
  },
  {
   "cell_type": "markdown",
   "metadata": {},
   "source": [
    "## Zapis do pojedynczych plików .csv"
   ]
  },
  {
   "cell_type": "code",
   "execution_count": 50,
   "metadata": {},
   "outputs": [],
   "source": [
    "X_train.to_csv('train/X_train.csv', index=False)\n",
    "y_train.to_csv('train/y_train.csv', index=False)\n",
    "X_test.to_csv('test/X_test.csv', index=False)\n",
    "y_test.to_csv('test/y_test.csv', index=False)"
   ]
  },
  {
   "cell_type": "markdown",
   "metadata": {},
   "source": [
    "Sprawdzenie poprawności zapisu:"
   ]
  },
  {
   "cell_type": "code",
   "execution_count": 51,
   "metadata": {},
   "outputs": [
    {
     "name": "stdout",
     "output_type": "stream",
     "text": [
      "(576, 8)\n"
     ]
    }
   ],
   "source": [
    "test = pd.read_csv('train/X_train.csv')\n",
    "print(test.shape)"
   ]
  },
  {
   "cell_type": "code",
   "execution_count": null,
   "metadata": {},
   "outputs": [],
   "source": []
  }
 ],
 "metadata": {
  "kernelspec": {
   "display_name": "Python 3",
   "language": "python",
   "name": "python3"
  },
  "language_info": {
   "codemirror_mode": {
    "name": "ipython",
    "version": 3
   },
   "file_extension": ".py",
   "mimetype": "text/x-python",
   "name": "python",
   "nbconvert_exporter": "python",
   "pygments_lexer": "ipython3",
   "version": "3.7.4"
  }
 },
 "nbformat": 4,
 "nbformat_minor": 4
}
